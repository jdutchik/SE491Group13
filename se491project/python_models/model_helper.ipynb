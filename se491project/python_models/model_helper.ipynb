{
 "cells": [
  {
   "cell_type": "code",
   "execution_count": 1,
   "id": "cd9f4d99",
   "metadata": {
    "tags": []
   },
   "outputs": [],
   "source": [
    "import numpy as np\n",
    "import pandas as pd\n",
    "import matplotlib.pyplot as plt\n",
    "import seaborn as sns\n",
    "from sklearn.metrics import confusion_matrix\n",
    "from sklearn.model_selection import train_test_split\n",
    "import sklearn.metrics as metrics\n",
    "from sklearn.preprocessing import LabelEncoder\n",
    "from sklearn.preprocessing import OneHotEncoder \n",
    "import statsmodels.api as sm"
   ]
  },
  {
   "cell_type": "code",
   "execution_count": 3,
   "id": "457d206b",
   "metadata": {},
   "outputs": [],
   "source": [
    "from tensorflow.keras.models import Sequential, save_model, load_model"
   ]
  },
  {
   "cell_type": "code",
   "execution_count": 67,
   "id": "e27a7736",
   "metadata": {},
   "outputs": [],
   "source": [
    "filepath = \"/Users/michaelk/Desktop/model_CNN4.h5\""
   ]
  },
  {
   "cell_type": "code",
   "execution_count": 68,
   "id": "4a8febf5",
   "metadata": {},
   "outputs": [],
   "source": [
    "# Load the model\n",
    "loaded_model = load_model(\n",
    "    filepath,\n",
    "    custom_objects=None,\n",
    "    compile=True\n",
    ")"
   ]
  },
  {
   "cell_type": "code",
   "execution_count": 69,
   "id": "48c52c4e",
   "metadata": {},
   "outputs": [
    {
     "data": {
      "text/plain": [
       "<keras.src.engine.functional.Functional at 0x14b971910>"
      ]
     },
     "execution_count": 69,
     "metadata": {},
     "output_type": "execute_result"
    }
   ],
   "source": [
    "loaded_model"
   ]
  },
  {
   "cell_type": "code",
   "execution_count": 145,
   "id": "dd4052c3",
   "metadata": {},
   "outputs": [],
   "source": [
    "import json"
   ]
  },
  {
   "cell_type": "code",
   "execution_count": null,
   "id": "b5471c9f",
   "metadata": {},
   "outputs": [],
   "source": []
  },
  {
   "cell_type": "code",
   "execution_count": null,
   "id": "b6abd29f",
   "metadata": {},
   "outputs": [],
   "source": []
  },
  {
   "cell_type": "code",
   "execution_count": 41,
   "id": "eefb7021",
   "metadata": {},
   "outputs": [],
   "source": [
    "data = pd.read_csv('/Users/michaelk/Desktop/SE 492/DATA/DATA_TF.csv')"
   ]
  },
  {
   "cell_type": "code",
   "execution_count": 91,
   "id": "e0104369",
   "metadata": {},
   "outputs": [],
   "source": [
    "allergens = pd.read_csv('/Users/michaelk/Desktop/SE 492/DATA/Allergens_List.csv')"
   ]
  },
  {
   "cell_type": "code",
   "execution_count": 131,
   "id": "bbe1de74",
   "metadata": {},
   "outputs": [
    {
     "data": {
      "text/plain": [
       "'Ingredient 100612'"
      ]
     },
     "execution_count": 131,
     "metadata": {},
     "output_type": "execute_result"
    }
   ],
   "source": [
    "allergens.Allergens[1]"
   ]
  },
  {
   "cell_type": "code",
   "execution_count": 42,
   "id": "c9f55ead",
   "metadata": {},
   "outputs": [
    {
     "data": {
      "text/html": [
       "<div>\n",
       "<style scoped>\n",
       "    .dataframe tbody tr th:only-of-type {\n",
       "        vertical-align: middle;\n",
       "    }\n",
       "\n",
       "    .dataframe tbody tr th {\n",
       "        vertical-align: top;\n",
       "    }\n",
       "\n",
       "    .dataframe thead th {\n",
       "        text-align: right;\n",
       "    }\n",
       "</style>\n",
       "<table border=\"1\" class=\"dataframe\">\n",
       "  <thead>\n",
       "    <tr style=\"text-align: right;\">\n",
       "      <th></th>\n",
       "      <th>Gender</th>\n",
       "      <th>BirthYear</th>\n",
       "      <th>State</th>\n",
       "      <th>Country</th>\n",
       "      <th>FitzpatrickSkinPhotoType</th>\n",
       "      <th>SkinTone</th>\n",
       "      <th>sensitive-skin-allergist-diagnosed</th>\n",
       "      <th>sensitive-skin-self-diagnosed</th>\n",
       "      <th>allergic-contact-dermatitis</th>\n",
       "      <th>eczema-atopic-skin</th>\n",
       "      <th>...</th>\n",
       "      <th>Ingredient 96771</th>\n",
       "      <th>Ingredient 9685</th>\n",
       "      <th>Ingredient 97</th>\n",
       "      <th>Ingredient 97196</th>\n",
       "      <th>Ingredient 97569</th>\n",
       "      <th>Ingredient 9804</th>\n",
       "      <th>Ingredient 98288</th>\n",
       "      <th>Ingredient 99100</th>\n",
       "      <th>Ingredient 9926</th>\n",
       "      <th>Ingredient 99356</th>\n",
       "    </tr>\n",
       "  </thead>\n",
       "  <tbody>\n",
       "    <tr>\n",
       "      <th>0</th>\n",
       "      <td>M</td>\n",
       "      <td>2000</td>\n",
       "      <td>California</td>\n",
       "      <td>United States of America</td>\n",
       "      <td></td>\n",
       "      <td>dark</td>\n",
       "      <td>False</td>\n",
       "      <td>False</td>\n",
       "      <td>False</td>\n",
       "      <td>False</td>\n",
       "      <td>...</td>\n",
       "      <td>False</td>\n",
       "      <td>False</td>\n",
       "      <td>False</td>\n",
       "      <td>False</td>\n",
       "      <td>False</td>\n",
       "      <td>False</td>\n",
       "      <td>False</td>\n",
       "      <td>False</td>\n",
       "      <td>False</td>\n",
       "      <td>False</td>\n",
       "    </tr>\n",
       "    <tr>\n",
       "      <th>1</th>\n",
       "      <td>F</td>\n",
       "      <td>1946</td>\n",
       "      <td>Nebraska</td>\n",
       "      <td>United States of America</td>\n",
       "      <td></td>\n",
       "      <td>medium</td>\n",
       "      <td>True</td>\n",
       "      <td>True</td>\n",
       "      <td>True</td>\n",
       "      <td>False</td>\n",
       "      <td>...</td>\n",
       "      <td>False</td>\n",
       "      <td>False</td>\n",
       "      <td>False</td>\n",
       "      <td>False</td>\n",
       "      <td>False</td>\n",
       "      <td>False</td>\n",
       "      <td>False</td>\n",
       "      <td>False</td>\n",
       "      <td>False</td>\n",
       "      <td>False</td>\n",
       "    </tr>\n",
       "    <tr>\n",
       "      <th>2</th>\n",
       "      <td>F</td>\n",
       "      <td>1950</td>\n",
       "      <td>Kentucky</td>\n",
       "      <td>United States of America</td>\n",
       "      <td></td>\n",
       "      <td>fair</td>\n",
       "      <td>True</td>\n",
       "      <td>False</td>\n",
       "      <td>True</td>\n",
       "      <td>True</td>\n",
       "      <td>...</td>\n",
       "      <td>False</td>\n",
       "      <td>False</td>\n",
       "      <td>False</td>\n",
       "      <td>False</td>\n",
       "      <td>False</td>\n",
       "      <td>False</td>\n",
       "      <td>False</td>\n",
       "      <td>False</td>\n",
       "      <td>False</td>\n",
       "      <td>False</td>\n",
       "    </tr>\n",
       "    <tr>\n",
       "      <th>3</th>\n",
       "      <td>M</td>\n",
       "      <td>1953</td>\n",
       "      <td></td>\n",
       "      <td></td>\n",
       "      <td></td>\n",
       "      <td>fair</td>\n",
       "      <td>True</td>\n",
       "      <td>False</td>\n",
       "      <td>False</td>\n",
       "      <td>False</td>\n",
       "      <td>...</td>\n",
       "      <td>False</td>\n",
       "      <td>False</td>\n",
       "      <td>False</td>\n",
       "      <td>False</td>\n",
       "      <td>False</td>\n",
       "      <td>False</td>\n",
       "      <td>False</td>\n",
       "      <td>False</td>\n",
       "      <td>False</td>\n",
       "      <td>False</td>\n",
       "    </tr>\n",
       "    <tr>\n",
       "      <th>4</th>\n",
       "      <td>F</td>\n",
       "      <td>1985</td>\n",
       "      <td>Massachusetts</td>\n",
       "      <td>United States of America</td>\n",
       "      <td></td>\n",
       "      <td>fair</td>\n",
       "      <td>True</td>\n",
       "      <td>True</td>\n",
       "      <td>True</td>\n",
       "      <td>True</td>\n",
       "      <td>...</td>\n",
       "      <td>False</td>\n",
       "      <td>False</td>\n",
       "      <td>False</td>\n",
       "      <td>False</td>\n",
       "      <td>False</td>\n",
       "      <td>False</td>\n",
       "      <td>False</td>\n",
       "      <td>False</td>\n",
       "      <td>False</td>\n",
       "      <td>False</td>\n",
       "    </tr>\n",
       "  </tbody>\n",
       "</table>\n",
       "<p>5 rows × 746 columns</p>\n",
       "</div>"
      ],
      "text/plain": [
       "  Gender  BirthYear           State                    Country  \\\n",
       "0      M       2000      California   United States of America   \n",
       "1      F       1946        Nebraska   United States of America   \n",
       "2      F       1950        Kentucky   United States of America   \n",
       "3      M       1953                                              \n",
       "4      F       1985   Massachusetts   United States of America   \n",
       "\n",
       "  FitzpatrickSkinPhotoType SkinTone  sensitive-skin-allergist-diagnosed  \\\n",
       "0                              dark                               False   \n",
       "1                            medium                                True   \n",
       "2                              fair                                True   \n",
       "3                              fair                                True   \n",
       "4                              fair                                True   \n",
       "\n",
       "   sensitive-skin-self-diagnosed  allergic-contact-dermatitis  \\\n",
       "0                          False                        False   \n",
       "1                           True                         True   \n",
       "2                          False                         True   \n",
       "3                          False                        False   \n",
       "4                           True                         True   \n",
       "\n",
       "   eczema-atopic-skin  ...  Ingredient 96771  Ingredient 9685  Ingredient 97  \\\n",
       "0               False  ...             False            False          False   \n",
       "1               False  ...             False            False          False   \n",
       "2                True  ...             False            False          False   \n",
       "3               False  ...             False            False          False   \n",
       "4                True  ...             False            False          False   \n",
       "\n",
       "   Ingredient 97196  Ingredient 97569  Ingredient 9804  Ingredient 98288  \\\n",
       "0             False             False            False             False   \n",
       "1             False             False            False             False   \n",
       "2             False             False            False             False   \n",
       "3             False             False            False             False   \n",
       "4             False             False            False             False   \n",
       "\n",
       "   Ingredient 99100  Ingredient 9926  Ingredient 99356  \n",
       "0             False            False             False  \n",
       "1             False            False             False  \n",
       "2             False            False             False  \n",
       "3             False            False             False  \n",
       "4             False            False             False  \n",
       "\n",
       "[5 rows x 746 columns]"
      ]
     },
     "execution_count": 42,
     "metadata": {},
     "output_type": "execute_result"
    }
   ],
   "source": [
    "data = data.drop(['SFM Id', 'City'], axis=1)\n",
    "data.head()"
   ]
  },
  {
   "cell_type": "code",
   "execution_count": 43,
   "id": "0778e535",
   "metadata": {},
   "outputs": [
    {
     "data": {
      "text/plain": [
       "Index(['Ingredient 9456', 'Ingredient 100612', 'Ingredient 100613',\n",
       "       'Ingredient 100702', 'Ingredient 100857', 'Ingredient 102',\n",
       "       'Ingredient 10260', 'Ingredient 103637', 'Ingredient 104',\n",
       "       'Ingredient 1043',\n",
       "       ...\n",
       "       'Ingredient 96771', 'Ingredient 9685', 'Ingredient 97',\n",
       "       'Ingredient 97196', 'Ingredient 97569', 'Ingredient 9804',\n",
       "       'Ingredient 98288', 'Ingredient 99100', 'Ingredient 9926',\n",
       "       'Ingredient 99356'],\n",
       "      dtype='object', length=728)"
      ]
     },
     "execution_count": 43,
     "metadata": {},
     "output_type": "execute_result"
    }
   ],
   "source": [
    "cols = data.columns\n",
    "skin_cols = cols[:18]\n",
    "ing_cols = cols[18:]\n",
    "ing_cols"
   ]
  },
  {
   "cell_type": "code",
   "execution_count": 62,
   "id": "f4c912cc",
   "metadata": {},
   "outputs": [
    {
     "data": {
      "text/html": [
       "<div>\n",
       "<style scoped>\n",
       "    .dataframe tbody tr th:only-of-type {\n",
       "        vertical-align: middle;\n",
       "    }\n",
       "\n",
       "    .dataframe tbody tr th {\n",
       "        vertical-align: top;\n",
       "    }\n",
       "\n",
       "    .dataframe thead th {\n",
       "        text-align: right;\n",
       "    }\n",
       "</style>\n",
       "<table border=\"1\" class=\"dataframe\">\n",
       "  <thead>\n",
       "    <tr style=\"text-align: right;\">\n",
       "      <th></th>\n",
       "      <th>Gender</th>\n",
       "      <th>BirthYear</th>\n",
       "      <th>State</th>\n",
       "      <th>Country</th>\n",
       "      <th>FitzpatrickSkinPhotoType</th>\n",
       "      <th>SkinTone</th>\n",
       "      <th>sensitive-skin-allergist-diagnosed</th>\n",
       "      <th>sensitive-skin-self-diagnosed</th>\n",
       "      <th>allergic-contact-dermatitis</th>\n",
       "      <th>eczema-atopic-skin</th>\n",
       "      <th>dry-chapped-skin</th>\n",
       "      <th>acne-pimples</th>\n",
       "      <th>skin-allergies</th>\n",
       "      <th>rosacea</th>\n",
       "      <th>discoloration-hyperpigmentation</th>\n",
       "      <th>fine-lines-wrinkles</th>\n",
       "      <th>psoriasis</th>\n",
       "      <th>blackheads-whiteheads</th>\n",
       "    </tr>\n",
       "  </thead>\n",
       "  <tbody>\n",
       "    <tr>\n",
       "      <th>0</th>\n",
       "      <td>M</td>\n",
       "      <td>2000</td>\n",
       "      <td>California</td>\n",
       "      <td>United States of America</td>\n",
       "      <td></td>\n",
       "      <td>dark</td>\n",
       "      <td>False</td>\n",
       "      <td>False</td>\n",
       "      <td>False</td>\n",
       "      <td>False</td>\n",
       "      <td>False</td>\n",
       "      <td>False</td>\n",
       "      <td>False</td>\n",
       "      <td>False</td>\n",
       "      <td>False</td>\n",
       "      <td>False</td>\n",
       "      <td>False</td>\n",
       "      <td>False</td>\n",
       "    </tr>\n",
       "    <tr>\n",
       "      <th>1</th>\n",
       "      <td>F</td>\n",
       "      <td>1946</td>\n",
       "      <td>Nebraska</td>\n",
       "      <td>United States of America</td>\n",
       "      <td></td>\n",
       "      <td>medium</td>\n",
       "      <td>True</td>\n",
       "      <td>True</td>\n",
       "      <td>True</td>\n",
       "      <td>False</td>\n",
       "      <td>True</td>\n",
       "      <td>False</td>\n",
       "      <td>True</td>\n",
       "      <td>False</td>\n",
       "      <td>False</td>\n",
       "      <td>False</td>\n",
       "      <td>False</td>\n",
       "      <td>False</td>\n",
       "    </tr>\n",
       "    <tr>\n",
       "      <th>2</th>\n",
       "      <td>F</td>\n",
       "      <td>1950</td>\n",
       "      <td>Kentucky</td>\n",
       "      <td>United States of America</td>\n",
       "      <td></td>\n",
       "      <td>fair</td>\n",
       "      <td>True</td>\n",
       "      <td>False</td>\n",
       "      <td>True</td>\n",
       "      <td>True</td>\n",
       "      <td>True</td>\n",
       "      <td>False</td>\n",
       "      <td>True</td>\n",
       "      <td>False</td>\n",
       "      <td>False</td>\n",
       "      <td>True</td>\n",
       "      <td>False</td>\n",
       "      <td>False</td>\n",
       "    </tr>\n",
       "    <tr>\n",
       "      <th>3</th>\n",
       "      <td>M</td>\n",
       "      <td>1953</td>\n",
       "      <td></td>\n",
       "      <td></td>\n",
       "      <td></td>\n",
       "      <td>fair</td>\n",
       "      <td>True</td>\n",
       "      <td>False</td>\n",
       "      <td>False</td>\n",
       "      <td>False</td>\n",
       "      <td>False</td>\n",
       "      <td>False</td>\n",
       "      <td>True</td>\n",
       "      <td>False</td>\n",
       "      <td>False</td>\n",
       "      <td>False</td>\n",
       "      <td>False</td>\n",
       "      <td>False</td>\n",
       "    </tr>\n",
       "    <tr>\n",
       "      <th>4</th>\n",
       "      <td>F</td>\n",
       "      <td>1985</td>\n",
       "      <td>Massachusetts</td>\n",
       "      <td>United States of America</td>\n",
       "      <td></td>\n",
       "      <td>fair</td>\n",
       "      <td>True</td>\n",
       "      <td>True</td>\n",
       "      <td>True</td>\n",
       "      <td>True</td>\n",
       "      <td>False</td>\n",
       "      <td>False</td>\n",
       "      <td>True</td>\n",
       "      <td>False</td>\n",
       "      <td>False</td>\n",
       "      <td>True</td>\n",
       "      <td>False</td>\n",
       "      <td>False</td>\n",
       "    </tr>\n",
       "  </tbody>\n",
       "</table>\n",
       "</div>"
      ],
      "text/plain": [
       "  Gender  BirthYear           State                    Country  \\\n",
       "0      M       2000      California   United States of America   \n",
       "1      F       1946        Nebraska   United States of America   \n",
       "2      F       1950        Kentucky   United States of America   \n",
       "3      M       1953                                              \n",
       "4      F       1985   Massachusetts   United States of America   \n",
       "\n",
       "  FitzpatrickSkinPhotoType SkinTone  sensitive-skin-allergist-diagnosed  \\\n",
       "0                              dark                               False   \n",
       "1                            medium                                True   \n",
       "2                              fair                                True   \n",
       "3                              fair                                True   \n",
       "4                              fair                                True   \n",
       "\n",
       "   sensitive-skin-self-diagnosed  allergic-contact-dermatitis  \\\n",
       "0                          False                        False   \n",
       "1                           True                         True   \n",
       "2                          False                         True   \n",
       "3                          False                        False   \n",
       "4                           True                         True   \n",
       "\n",
       "   eczema-atopic-skin  dry-chapped-skin  acne-pimples  skin-allergies  \\\n",
       "0               False             False         False           False   \n",
       "1               False              True         False            True   \n",
       "2                True              True         False            True   \n",
       "3               False             False         False            True   \n",
       "4                True             False         False            True   \n",
       "\n",
       "   rosacea  discoloration-hyperpigmentation  fine-lines-wrinkles  psoriasis  \\\n",
       "0    False                            False                False      False   \n",
       "1    False                            False                False      False   \n",
       "2    False                            False                 True      False   \n",
       "3    False                            False                False      False   \n",
       "4    False                            False                 True      False   \n",
       "\n",
       "   blackheads-whiteheads  \n",
       "0                  False  \n",
       "1                  False  \n",
       "2                  False  \n",
       "3                  False  \n",
       "4                  False  "
      ]
     },
     "execution_count": 62,
     "metadata": {},
     "output_type": "execute_result"
    }
   ],
   "source": [
    "selData2 = data[ing_cols]\n",
    "selData = data[skin_cols]\n",
    "selData.head()"
   ]
  },
  {
   "cell_type": "code",
   "execution_count": 45,
   "id": "9f29c4c8",
   "metadata": {},
   "outputs": [],
   "source": [
    "Genderdummies = pd.get_dummies(selData.Gender)\n",
    "Statedummies = pd.get_dummies(selData.State)\n",
    "Countrydummies = pd.get_dummies(selData.Country)\n",
    "Fitzdummies = pd.get_dummies(selData.FitzpatrickSkinPhotoType)\n",
    "Tonedummies = pd.get_dummies(selData.SkinTone)"
   ]
  },
  {
   "cell_type": "code",
   "execution_count": 46,
   "id": "21ec7c94",
   "metadata": {},
   "outputs": [],
   "source": [
    "merged = pd.concat([selData, Genderdummies, Statedummies, \n",
    "                    Countrydummies, Fitzdummies, Tonedummies], axis='columns')"
   ]
  },
  {
   "cell_type": "code",
   "execution_count": 47,
   "id": "372fd1de",
   "metadata": {},
   "outputs": [],
   "source": [
    "cleaned = merged.drop(['Gender', 'State', 'Country', \n",
    "             'FitzpatrickSkinPhotoType', 'SkinTone'], axis='columns')"
   ]
  },
  {
   "cell_type": "code",
   "execution_count": 82,
   "id": "922df353",
   "metadata": {},
   "outputs": [
    {
     "data": {
      "text/html": [
       "<div>\n",
       "<style scoped>\n",
       "    .dataframe tbody tr th:only-of-type {\n",
       "        vertical-align: middle;\n",
       "    }\n",
       "\n",
       "    .dataframe tbody tr th {\n",
       "        vertical-align: top;\n",
       "    }\n",
       "\n",
       "    .dataframe thead th {\n",
       "        text-align: right;\n",
       "    }\n",
       "</style>\n",
       "<table border=\"1\" class=\"dataframe\">\n",
       "  <thead>\n",
       "    <tr style=\"text-align: right;\">\n",
       "      <th></th>\n",
       "      <th>BirthYear</th>\n",
       "      <th>sensitive-skin-allergist-diagnosed</th>\n",
       "      <th>sensitive-skin-self-diagnosed</th>\n",
       "      <th>allergic-contact-dermatitis</th>\n",
       "      <th>eczema-atopic-skin</th>\n",
       "      <th>dry-chapped-skin</th>\n",
       "      <th>acne-pimples</th>\n",
       "      <th>skin-allergies</th>\n",
       "      <th>rosacea</th>\n",
       "      <th>discoloration-hyperpigmentation</th>\n",
       "      <th>...</th>\n",
       "      <th>darker-white</th>\n",
       "      <th>light-brown</th>\n",
       "      <th>light-pale-white</th>\n",
       "      <th>white-fair</th>\n",
       "      <th>brown</th>\n",
       "      <th>dark</th>\n",
       "      <th>fair</th>\n",
       "      <th>light</th>\n",
       "      <th>medium</th>\n",
       "      <th>olive</th>\n",
       "    </tr>\n",
       "  </thead>\n",
       "  <tbody>\n",
       "    <tr>\n",
       "      <th>0</th>\n",
       "      <td>2000</td>\n",
       "      <td>False</td>\n",
       "      <td>False</td>\n",
       "      <td>False</td>\n",
       "      <td>False</td>\n",
       "      <td>False</td>\n",
       "      <td>False</td>\n",
       "      <td>False</td>\n",
       "      <td>False</td>\n",
       "      <td>False</td>\n",
       "      <td>...</td>\n",
       "      <td>False</td>\n",
       "      <td>False</td>\n",
       "      <td>False</td>\n",
       "      <td>False</td>\n",
       "      <td>False</td>\n",
       "      <td>True</td>\n",
       "      <td>False</td>\n",
       "      <td>False</td>\n",
       "      <td>False</td>\n",
       "      <td>False</td>\n",
       "    </tr>\n",
       "  </tbody>\n",
       "</table>\n",
       "<p>1 rows × 94 columns</p>\n",
       "</div>"
      ],
      "text/plain": [
       "   BirthYear  sensitive-skin-allergist-diagnosed  \\\n",
       "0       2000                               False   \n",
       "\n",
       "   sensitive-skin-self-diagnosed  allergic-contact-dermatitis  \\\n",
       "0                          False                        False   \n",
       "\n",
       "   eczema-atopic-skin  dry-chapped-skin  acne-pimples  skin-allergies  \\\n",
       "0               False             False         False           False   \n",
       "\n",
       "   rosacea  discoloration-hyperpigmentation  ...   darker-white   light-brown  \\\n",
       "0    False                            False  ...          False         False   \n",
       "\n",
       "    light-pale-white   white-fair   brown   dark   fair   light   medium  \\\n",
       "0              False        False   False   True  False   False    False   \n",
       "\n",
       "    olive  \n",
       "0   False  \n",
       "\n",
       "[1 rows x 94 columns]"
      ]
     },
     "execution_count": 82,
     "metadata": {},
     "output_type": "execute_result"
    }
   ],
   "source": [
    "temp = cleaned.iloc[0:1]\n",
    "temp"
   ]
  },
  {
   "cell_type": "code",
   "execution_count": 144,
   "id": "bc8d0803",
   "metadata": {},
   "outputs": [
    {
     "data": {
      "text/plain": [
       "(1, 94)"
      ]
     },
     "execution_count": 144,
     "metadata": {},
     "output_type": "execute_result"
    }
   ],
   "source": [
    "temp.shape"
   ]
  },
  {
   "cell_type": "code",
   "execution_count": 84,
   "id": "f1d49e54",
   "metadata": {},
   "outputs": [],
   "source": [
    "temp=np.asarray(temp).astype(np.float32)"
   ]
  },
  {
   "cell_type": "code",
   "execution_count": null,
   "id": "e37873a3",
   "metadata": {},
   "outputs": [],
   "source": []
  },
  {
   "cell_type": "code",
   "execution_count": 88,
   "id": "e5899a87",
   "metadata": {},
   "outputs": [],
   "source": [
    "from sklearn.model_selection import train_test_split\n",
    "X = cleaned\n",
    "y = selData2\n",
    "\n",
    "X_train, X_test, y_train, y_test = train_test_split(X, y, test_size=0.2, random_state=42)"
   ]
  },
  {
   "cell_type": "code",
   "execution_count": 107,
   "id": "97274cd1",
   "metadata": {},
   "outputs": [
    {
     "name": "stdout",
     "output_type": "stream",
     "text": [
      "1/1 [==============================] - 0s 30ms/step\n"
     ]
    },
    {
     "data": {
      "text/plain": [
       "728"
      ]
     },
     "execution_count": 107,
     "metadata": {},
     "output_type": "execute_result"
    }
   ],
   "source": [
    "pred = loaded_model.predict(temp)\n",
    "temp2 = np.array(pred)\n",
    "pred.size"
   ]
  },
  {
   "cell_type": "code",
   "execution_count": 138,
   "id": "21259dea",
   "metadata": {},
   "outputs": [],
   "source": [
    "results = np.where(temp2 >90)\n",
    "index = results[1][:]"
   ]
  },
  {
   "cell_type": "code",
   "execution_count": 139,
   "id": "76349a1a",
   "metadata": {},
   "outputs": [],
   "source": [
    "all_ret = []\n",
    "all_prec = []\n",
    "for x in index:\n",
    "    all_ret.append(allergens.Allergens[x])\n",
    "    all_prec.append(temp2[0][x])"
   ]
  },
  {
   "cell_type": "code",
   "execution_count": 141,
   "id": "b0dded06",
   "metadata": {},
   "outputs": [
    {
     "data": {
      "text/plain": [
       "['Ingredient 1605', 'Ingredient 6']"
      ]
     },
     "execution_count": 141,
     "metadata": {},
     "output_type": "execute_result"
    }
   ],
   "source": [
    "all_ret"
   ]
  },
  {
   "cell_type": "code",
   "execution_count": 142,
   "id": "377abbc0",
   "metadata": {},
   "outputs": [
    {
     "data": {
      "text/plain": [
       "[98.950935, 98.449715]"
      ]
     },
     "execution_count": 142,
     "metadata": {},
     "output_type": "execute_result"
    }
   ],
   "source": [
    "all_prec"
   ]
  },
  {
   "cell_type": "code",
   "execution_count": null,
   "id": "576ec3ff",
   "metadata": {},
   "outputs": [],
   "source": [
    "json.dumps({'allergens': all_ret, 'percentages': all_prec , 'all_pred' : pred})"
   ]
  },
  {
   "cell_type": "code",
   "execution_count": null,
   "id": "8d126284",
   "metadata": {},
   "outputs": [],
   "source": []
  },
  {
   "cell_type": "code",
   "execution_count": null,
   "id": "02149d63",
   "metadata": {},
   "outputs": [],
   "source": []
  },
  {
   "cell_type": "code",
   "execution_count": null,
   "id": "68a40264",
   "metadata": {},
   "outputs": [],
   "source": []
  },
  {
   "cell_type": "code",
   "execution_count": null,
   "id": "ad96fab6",
   "metadata": {},
   "outputs": [],
   "source": []
  },
  {
   "cell_type": "code",
   "execution_count": null,
   "id": "6161f095",
   "metadata": {},
   "outputs": [],
   "source": []
  }
 ],
 "metadata": {
  "kernelspec": {
   "display_name": "Python 3 (ipykernel)",
   "language": "python",
   "name": "python3"
  },
  "language_info": {
   "codemirror_mode": {
    "name": "ipython",
    "version": 3
   },
   "file_extension": ".py",
   "mimetype": "text/x-python",
   "name": "python",
   "nbconvert_exporter": "python",
   "pygments_lexer": "ipython3",
   "version": "3.11.5"
  }
 },
 "nbformat": 4,
 "nbformat_minor": 5
}
